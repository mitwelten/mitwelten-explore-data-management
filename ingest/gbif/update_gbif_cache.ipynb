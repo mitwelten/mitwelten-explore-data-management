{
 "cells": [
  {
   "cell_type": "code",
   "execution_count": 15,
   "metadata": {},
   "outputs": [],
   "source": [
    "from gbif_utils import *\n",
    "from geo_utils import *\n",
    "import pandas as pd\n",
    "import requests\n",
    "import json\n",
    "import plotly.graph_objects as go\n",
    "import geopy.distance\n",
    "import plotly.express as px\n",
    "import numpy as np\n",
    "from concurrent.futures import ThreadPoolExecutor, as_completed\n",
    "from tqdm import tqdm\n",
    "import datetime\n"
   ]
  },
  {
   "cell_type": "code",
   "execution_count": 16,
   "metadata": {},
   "outputs": [],
   "source": [
    "GRID_RES = 16\n",
    "BASE_TAXON_ID = 212\n",
    "RADIUS=20\n",
    "center = (47.53660, 7.61344)\n",
    "now = datetime.datetime.now().strftime(\"%Y-%m-%d\")\n",
    "DATE_RANGE = (\"2022\",now)\n",
    "HARD_POINT_LIMIT = 100000\n",
    "points = get_min_max_coordinates(center, RADIUS)\n",
    "lats, lons = get_lat_lon_cells(points,GRID_RES)"
   ]
  },
  {
   "cell_type": "code",
   "execution_count": 17,
   "metadata": {},
   "outputs": [
    {
     "data": {
      "application/vnd.plotly.v1+json": {
       "config": {
        "plotlyServerURL": "https://plot.ly"
       },
       "data": [
        {
         "lat": [
          47.5366
         ],
         "lon": [
          7.61344
         ],
         "marker": {
          "color": "red",
          "opacity": 1,
          "size": 20
         },
         "mode": "markers",
         "text": [
          "center"
         ],
         "type": "scattermapbox"
        },
        {
         "lat": [
          47.716483528649505,
          47.716483528649505,
          47.35671080172371,
          47.35671080172371,
          47.716483528649505
         ],
         "lon": [
          7.347805705628087,
          7.879074294371913,
          7.879074294371913,
          7.347805705628087,
          7.347805705628087
         ],
         "marker": {
          "color": "#69DB7C"
         },
         "mode": "lines",
         "type": "scattermapbox"
        },
        {
         "lat": [
          47.35671080172371,
          47.716483528649505,
          null,
          47.35671080172371,
          47.716483528649505,
          null,
          47.35671080172371,
          47.716483528649505,
          null,
          47.35671080172371,
          47.716483528649505,
          null,
          47.35671080172371,
          47.716483528649505,
          null,
          47.35671080172371,
          47.716483528649505,
          null,
          47.35671080172371,
          47.716483528649505,
          null,
          47.35671080172371,
          47.716483528649505,
          null,
          47.35671080172371,
          47.716483528649505,
          null,
          47.35671080172371,
          47.716483528649505,
          null,
          47.35671080172371,
          47.716483528649505,
          null,
          47.35671080172371,
          47.716483528649505,
          null,
          47.35671080172371,
          47.716483528649505,
          null,
          47.35671080172371,
          47.716483528649505,
          null,
          47.35671080172371,
          47.716483528649505,
          null,
          47.35671080172371,
          47.716483528649505,
          null,
          47.35671080172371,
          47.716483528649505,
          null,
          47.35671080172371,
          47.35671080172371,
          null,
          47.37919659715657,
          47.37919659715657,
          null,
          47.401682392589436,
          47.401682392589436,
          null,
          47.42416818802229,
          47.42416818802229,
          null,
          47.44665398345516,
          47.44665398345516,
          null,
          47.46913977888802,
          47.46913977888802,
          null,
          47.49162557432088,
          47.49162557432088,
          null,
          47.51411136975374,
          47.51411136975374,
          null,
          47.536597165186606,
          47.536597165186606,
          null,
          47.55908296061947,
          47.55908296061947,
          null,
          47.581568756052334,
          47.581568756052334,
          null,
          47.60405455148519,
          47.60405455148519,
          null,
          47.626540346918055,
          47.626540346918055,
          null,
          47.64902614235092,
          47.64902614235092,
          null,
          47.67151193778378,
          47.67151193778378,
          null,
          47.69399773321664,
          47.69399773321664,
          null,
          47.716483528649505,
          47.716483528649505,
          null
         ],
         "lon": [
          7.347805705628087,
          7.347805705628087,
          null,
          7.381009992424576,
          7.381009992424576,
          null,
          7.414214279221065,
          7.414214279221065,
          null,
          7.4474185660175545,
          7.4474185660175545,
          null,
          7.480622852814044,
          7.480622852814044,
          null,
          7.513827139610532,
          7.513827139610532,
          null,
          7.547031426407021,
          7.547031426407021,
          null,
          7.5802357132035105,
          7.5802357132035105,
          null,
          7.61344,
          7.61344,
          null,
          7.646644286796489,
          7.646644286796489,
          null,
          7.679848573592978,
          7.679848573592978,
          null,
          7.7130528603894675,
          7.7130528603894675,
          null,
          7.746257147185956,
          7.746257147185956,
          null,
          7.779461433982445,
          7.779461433982445,
          null,
          7.812665720778934,
          7.812665720778934,
          null,
          7.8458700075754235,
          7.8458700075754235,
          null,
          7.879074294371913,
          7.879074294371913,
          null,
          7.347805705628087,
          7.879074294371913,
          null,
          7.347805705628087,
          7.879074294371913,
          null,
          7.347805705628087,
          7.879074294371913,
          null,
          7.347805705628087,
          7.879074294371913,
          null,
          7.347805705628087,
          7.879074294371913,
          null,
          7.347805705628087,
          7.879074294371913,
          null,
          7.347805705628087,
          7.879074294371913,
          null,
          7.347805705628087,
          7.879074294371913,
          null,
          7.347805705628087,
          7.879074294371913,
          null,
          7.347805705628087,
          7.879074294371913,
          null,
          7.347805705628087,
          7.879074294371913,
          null,
          7.347805705628087,
          7.879074294371913,
          null,
          7.347805705628087,
          7.879074294371913,
          null,
          7.347805705628087,
          7.879074294371913,
          null,
          7.347805705628087,
          7.879074294371913,
          null,
          7.347805705628087,
          7.879074294371913,
          null,
          7.347805705628087,
          7.879074294371913,
          null
         ],
         "marker": {
          "color": "deeppink"
         },
         "mode": "lines",
         "type": "scattermapbox"
        }
       ],
       "layout": {
        "height": 600,
        "mapbox": {
         "center": {
          "lat": 47.5366,
          "lon": 7.61344
         },
         "layers": [
          {
           "below": "traces",
           "source": [
            "https://wmts10.geo.admin.ch/1.0.0/ch.swisstopo.swissimage/default/current/3857/{z}/{x}/{y}.jpeg"
           ],
           "sourceattribution": "<a href=\"http://osm.org/copyright\">SwissTopo</a>",
           "sourcetype": "raster"
          }
         ],
         "style": "white-bg",
         "zoom": 9.5
        },
        "margin": {
         "b": 0,
         "l": 0,
         "r": 0,
         "t": 0
        },
        "showlegend": false,
        "template": {
         "data": {
          "bar": [
           {
            "error_x": {
             "color": "#2a3f5f"
            },
            "error_y": {
             "color": "#2a3f5f"
            },
            "marker": {
             "line": {
              "color": "#E5ECF6",
              "width": 0.5
             },
             "pattern": {
              "fillmode": "overlay",
              "size": 10,
              "solidity": 0.2
             }
            },
            "type": "bar"
           }
          ],
          "barpolar": [
           {
            "marker": {
             "line": {
              "color": "#E5ECF6",
              "width": 0.5
             },
             "pattern": {
              "fillmode": "overlay",
              "size": 10,
              "solidity": 0.2
             }
            },
            "type": "barpolar"
           }
          ],
          "carpet": [
           {
            "aaxis": {
             "endlinecolor": "#2a3f5f",
             "gridcolor": "white",
             "linecolor": "white",
             "minorgridcolor": "white",
             "startlinecolor": "#2a3f5f"
            },
            "baxis": {
             "endlinecolor": "#2a3f5f",
             "gridcolor": "white",
             "linecolor": "white",
             "minorgridcolor": "white",
             "startlinecolor": "#2a3f5f"
            },
            "type": "carpet"
           }
          ],
          "choropleth": [
           {
            "colorbar": {
             "outlinewidth": 0,
             "ticks": ""
            },
            "type": "choropleth"
           }
          ],
          "contour": [
           {
            "colorbar": {
             "outlinewidth": 0,
             "ticks": ""
            },
            "colorscale": [
             [
              0,
              "#0d0887"
             ],
             [
              0.1111111111111111,
              "#46039f"
             ],
             [
              0.2222222222222222,
              "#7201a8"
             ],
             [
              0.3333333333333333,
              "#9c179e"
             ],
             [
              0.4444444444444444,
              "#bd3786"
             ],
             [
              0.5555555555555556,
              "#d8576b"
             ],
             [
              0.6666666666666666,
              "#ed7953"
             ],
             [
              0.7777777777777778,
              "#fb9f3a"
             ],
             [
              0.8888888888888888,
              "#fdca26"
             ],
             [
              1,
              "#f0f921"
             ]
            ],
            "type": "contour"
           }
          ],
          "contourcarpet": [
           {
            "colorbar": {
             "outlinewidth": 0,
             "ticks": ""
            },
            "type": "contourcarpet"
           }
          ],
          "heatmap": [
           {
            "colorbar": {
             "outlinewidth": 0,
             "ticks": ""
            },
            "colorscale": [
             [
              0,
              "#0d0887"
             ],
             [
              0.1111111111111111,
              "#46039f"
             ],
             [
              0.2222222222222222,
              "#7201a8"
             ],
             [
              0.3333333333333333,
              "#9c179e"
             ],
             [
              0.4444444444444444,
              "#bd3786"
             ],
             [
              0.5555555555555556,
              "#d8576b"
             ],
             [
              0.6666666666666666,
              "#ed7953"
             ],
             [
              0.7777777777777778,
              "#fb9f3a"
             ],
             [
              0.8888888888888888,
              "#fdca26"
             ],
             [
              1,
              "#f0f921"
             ]
            ],
            "type": "heatmap"
           }
          ],
          "heatmapgl": [
           {
            "colorbar": {
             "outlinewidth": 0,
             "ticks": ""
            },
            "colorscale": [
             [
              0,
              "#0d0887"
             ],
             [
              0.1111111111111111,
              "#46039f"
             ],
             [
              0.2222222222222222,
              "#7201a8"
             ],
             [
              0.3333333333333333,
              "#9c179e"
             ],
             [
              0.4444444444444444,
              "#bd3786"
             ],
             [
              0.5555555555555556,
              "#d8576b"
             ],
             [
              0.6666666666666666,
              "#ed7953"
             ],
             [
              0.7777777777777778,
              "#fb9f3a"
             ],
             [
              0.8888888888888888,
              "#fdca26"
             ],
             [
              1,
              "#f0f921"
             ]
            ],
            "type": "heatmapgl"
           }
          ],
          "histogram": [
           {
            "marker": {
             "pattern": {
              "fillmode": "overlay",
              "size": 10,
              "solidity": 0.2
             }
            },
            "type": "histogram"
           }
          ],
          "histogram2d": [
           {
            "colorbar": {
             "outlinewidth": 0,
             "ticks": ""
            },
            "colorscale": [
             [
              0,
              "#0d0887"
             ],
             [
              0.1111111111111111,
              "#46039f"
             ],
             [
              0.2222222222222222,
              "#7201a8"
             ],
             [
              0.3333333333333333,
              "#9c179e"
             ],
             [
              0.4444444444444444,
              "#bd3786"
             ],
             [
              0.5555555555555556,
              "#d8576b"
             ],
             [
              0.6666666666666666,
              "#ed7953"
             ],
             [
              0.7777777777777778,
              "#fb9f3a"
             ],
             [
              0.8888888888888888,
              "#fdca26"
             ],
             [
              1,
              "#f0f921"
             ]
            ],
            "type": "histogram2d"
           }
          ],
          "histogram2dcontour": [
           {
            "colorbar": {
             "outlinewidth": 0,
             "ticks": ""
            },
            "colorscale": [
             [
              0,
              "#0d0887"
             ],
             [
              0.1111111111111111,
              "#46039f"
             ],
             [
              0.2222222222222222,
              "#7201a8"
             ],
             [
              0.3333333333333333,
              "#9c179e"
             ],
             [
              0.4444444444444444,
              "#bd3786"
             ],
             [
              0.5555555555555556,
              "#d8576b"
             ],
             [
              0.6666666666666666,
              "#ed7953"
             ],
             [
              0.7777777777777778,
              "#fb9f3a"
             ],
             [
              0.8888888888888888,
              "#fdca26"
             ],
             [
              1,
              "#f0f921"
             ]
            ],
            "type": "histogram2dcontour"
           }
          ],
          "mesh3d": [
           {
            "colorbar": {
             "outlinewidth": 0,
             "ticks": ""
            },
            "type": "mesh3d"
           }
          ],
          "parcoords": [
           {
            "line": {
             "colorbar": {
              "outlinewidth": 0,
              "ticks": ""
             }
            },
            "type": "parcoords"
           }
          ],
          "pie": [
           {
            "automargin": true,
            "type": "pie"
           }
          ],
          "scatter": [
           {
            "fillpattern": {
             "fillmode": "overlay",
             "size": 10,
             "solidity": 0.2
            },
            "type": "scatter"
           }
          ],
          "scatter3d": [
           {
            "line": {
             "colorbar": {
              "outlinewidth": 0,
              "ticks": ""
             }
            },
            "marker": {
             "colorbar": {
              "outlinewidth": 0,
              "ticks": ""
             }
            },
            "type": "scatter3d"
           }
          ],
          "scattercarpet": [
           {
            "marker": {
             "colorbar": {
              "outlinewidth": 0,
              "ticks": ""
             }
            },
            "type": "scattercarpet"
           }
          ],
          "scattergeo": [
           {
            "marker": {
             "colorbar": {
              "outlinewidth": 0,
              "ticks": ""
             }
            },
            "type": "scattergeo"
           }
          ],
          "scattergl": [
           {
            "marker": {
             "colorbar": {
              "outlinewidth": 0,
              "ticks": ""
             }
            },
            "type": "scattergl"
           }
          ],
          "scattermapbox": [
           {
            "marker": {
             "colorbar": {
              "outlinewidth": 0,
              "ticks": ""
             }
            },
            "type": "scattermapbox"
           }
          ],
          "scatterpolar": [
           {
            "marker": {
             "colorbar": {
              "outlinewidth": 0,
              "ticks": ""
             }
            },
            "type": "scatterpolar"
           }
          ],
          "scatterpolargl": [
           {
            "marker": {
             "colorbar": {
              "outlinewidth": 0,
              "ticks": ""
             }
            },
            "type": "scatterpolargl"
           }
          ],
          "scatterternary": [
           {
            "marker": {
             "colorbar": {
              "outlinewidth": 0,
              "ticks": ""
             }
            },
            "type": "scatterternary"
           }
          ],
          "surface": [
           {
            "colorbar": {
             "outlinewidth": 0,
             "ticks": ""
            },
            "colorscale": [
             [
              0,
              "#0d0887"
             ],
             [
              0.1111111111111111,
              "#46039f"
             ],
             [
              0.2222222222222222,
              "#7201a8"
             ],
             [
              0.3333333333333333,
              "#9c179e"
             ],
             [
              0.4444444444444444,
              "#bd3786"
             ],
             [
              0.5555555555555556,
              "#d8576b"
             ],
             [
              0.6666666666666666,
              "#ed7953"
             ],
             [
              0.7777777777777778,
              "#fb9f3a"
             ],
             [
              0.8888888888888888,
              "#fdca26"
             ],
             [
              1,
              "#f0f921"
             ]
            ],
            "type": "surface"
           }
          ],
          "table": [
           {
            "cells": {
             "fill": {
              "color": "#EBF0F8"
             },
             "line": {
              "color": "white"
             }
            },
            "header": {
             "fill": {
              "color": "#C8D4E3"
             },
             "line": {
              "color": "white"
             }
            },
            "type": "table"
           }
          ]
         },
         "layout": {
          "annotationdefaults": {
           "arrowcolor": "#2a3f5f",
           "arrowhead": 0,
           "arrowwidth": 1
          },
          "autotypenumbers": "strict",
          "coloraxis": {
           "colorbar": {
            "outlinewidth": 0,
            "ticks": ""
           }
          },
          "colorscale": {
           "diverging": [
            [
             0,
             "#8e0152"
            ],
            [
             0.1,
             "#c51b7d"
            ],
            [
             0.2,
             "#de77ae"
            ],
            [
             0.3,
             "#f1b6da"
            ],
            [
             0.4,
             "#fde0ef"
            ],
            [
             0.5,
             "#f7f7f7"
            ],
            [
             0.6,
             "#e6f5d0"
            ],
            [
             0.7,
             "#b8e186"
            ],
            [
             0.8,
             "#7fbc41"
            ],
            [
             0.9,
             "#4d9221"
            ],
            [
             1,
             "#276419"
            ]
           ],
           "sequential": [
            [
             0,
             "#0d0887"
            ],
            [
             0.1111111111111111,
             "#46039f"
            ],
            [
             0.2222222222222222,
             "#7201a8"
            ],
            [
             0.3333333333333333,
             "#9c179e"
            ],
            [
             0.4444444444444444,
             "#bd3786"
            ],
            [
             0.5555555555555556,
             "#d8576b"
            ],
            [
             0.6666666666666666,
             "#ed7953"
            ],
            [
             0.7777777777777778,
             "#fb9f3a"
            ],
            [
             0.8888888888888888,
             "#fdca26"
            ],
            [
             1,
             "#f0f921"
            ]
           ],
           "sequentialminus": [
            [
             0,
             "#0d0887"
            ],
            [
             0.1111111111111111,
             "#46039f"
            ],
            [
             0.2222222222222222,
             "#7201a8"
            ],
            [
             0.3333333333333333,
             "#9c179e"
            ],
            [
             0.4444444444444444,
             "#bd3786"
            ],
            [
             0.5555555555555556,
             "#d8576b"
            ],
            [
             0.6666666666666666,
             "#ed7953"
            ],
            [
             0.7777777777777778,
             "#fb9f3a"
            ],
            [
             0.8888888888888888,
             "#fdca26"
            ],
            [
             1,
             "#f0f921"
            ]
           ]
          },
          "colorway": [
           "#636efa",
           "#EF553B",
           "#00cc96",
           "#ab63fa",
           "#FFA15A",
           "#19d3f3",
           "#FF6692",
           "#B6E880",
           "#FF97FF",
           "#FECB52"
          ],
          "font": {
           "color": "#2a3f5f"
          },
          "geo": {
           "bgcolor": "white",
           "lakecolor": "white",
           "landcolor": "#E5ECF6",
           "showlakes": true,
           "showland": true,
           "subunitcolor": "white"
          },
          "hoverlabel": {
           "align": "left"
          },
          "hovermode": "closest",
          "mapbox": {
           "style": "light"
          },
          "paper_bgcolor": "white",
          "plot_bgcolor": "#E5ECF6",
          "polar": {
           "angularaxis": {
            "gridcolor": "white",
            "linecolor": "white",
            "ticks": ""
           },
           "bgcolor": "#E5ECF6",
           "radialaxis": {
            "gridcolor": "white",
            "linecolor": "white",
            "ticks": ""
           }
          },
          "scene": {
           "xaxis": {
            "backgroundcolor": "#E5ECF6",
            "gridcolor": "white",
            "gridwidth": 2,
            "linecolor": "white",
            "showbackground": true,
            "ticks": "",
            "zerolinecolor": "white"
           },
           "yaxis": {
            "backgroundcolor": "#E5ECF6",
            "gridcolor": "white",
            "gridwidth": 2,
            "linecolor": "white",
            "showbackground": true,
            "ticks": "",
            "zerolinecolor": "white"
           },
           "zaxis": {
            "backgroundcolor": "#E5ECF6",
            "gridcolor": "white",
            "gridwidth": 2,
            "linecolor": "white",
            "showbackground": true,
            "ticks": "",
            "zerolinecolor": "white"
           }
          },
          "shapedefaults": {
           "line": {
            "color": "#2a3f5f"
           }
          },
          "ternary": {
           "aaxis": {
            "gridcolor": "white",
            "linecolor": "white",
            "ticks": ""
           },
           "baxis": {
            "gridcolor": "white",
            "linecolor": "white",
            "ticks": ""
           },
           "bgcolor": "#E5ECF6",
           "caxis": {
            "gridcolor": "white",
            "linecolor": "white",
            "ticks": ""
           }
          },
          "title": {
           "x": 0.05
          },
          "xaxis": {
           "automargin": true,
           "gridcolor": "white",
           "linecolor": "white",
           "ticks": "",
           "title": {
            "standoff": 15
           },
           "zerolinecolor": "white",
           "zerolinewidth": 2
          },
          "yaxis": {
           "automargin": true,
           "gridcolor": "white",
           "linecolor": "white",
           "ticks": "",
           "title": {
            "standoff": 15
           },
           "zerolinecolor": "white",
           "zerolinewidth": 2
          }
         }
        },
        "width": 600
       }
      }
     },
     "metadata": {},
     "output_type": "display_data"
    }
   ],
   "source": [
    "center_marker = go.Scattermapbox(\n",
    "    lon=[center[1]],\n",
    "    lat=[center[0]],\n",
    "    text=[\"center\"],\n",
    "    mode=\"markers\",\n",
    "    marker={\"size\": 20, \"color\": \"red\", \"opacity\": 1},\n",
    ")\n",
    "\n",
    "\n",
    "def get_marker(point):\n",
    "    return go.Scattermapbox(\n",
    "        lon=[point[1]],\n",
    "        lat=[point[0]],\n",
    "        mode=\"markers\",\n",
    "        marker={\"size\": 10, \"opacity\": 0.8},\n",
    "    )\n",
    "\n",
    "\n",
    "def get_rectangle(points):\n",
    "    lat_max = max([p[0] for p in points])\n",
    "    lat_min = min([p[0] for p in points])\n",
    "    lon_max = max([p[1] for p in points])\n",
    "    lon_min = min([p[1] for p in points])\n",
    "    return go.Scattermapbox(\n",
    "        lon=[lon_min, lon_max, lon_max, lon_min, lon_min],\n",
    "        lat=[lat_max, lat_max, lat_min, lat_min, lat_max],\n",
    "        mode=\"lines\",\n",
    "        marker={\"color\": \"#69DB7C\"},\n",
    "    )\n",
    "\n",
    "\n",
    "def get_gridlines(lats, lons):\n",
    "    lat_max = max(lats)\n",
    "    lat_min = min(lats)\n",
    "    lon_max = max(lons)\n",
    "    lon_min = min(lons)\n",
    "    lines_lat_v = []\n",
    "    lines_lon_v = []\n",
    "    lines_lat_h = []\n",
    "    lines_lon_h = []\n",
    "    for lo in lons:\n",
    "        lines_lat_v.append(lat_min)\n",
    "        lines_lat_v.append(lat_max)\n",
    "        lines_lat_v.append(None)\n",
    "        lines_lon_v.append(lo)\n",
    "        lines_lon_v.append(lo)\n",
    "        lines_lon_v.append(None)\n",
    "    for lo in lats:\n",
    "        lines_lon_h.append(lon_min)\n",
    "        lines_lon_h.append(lon_max)\n",
    "        lines_lon_h.append(None)\n",
    "        lines_lat_h.append(lo)\n",
    "        lines_lat_h.append(lo)\n",
    "        lines_lat_h.append(None)\n",
    "    return go.Scattermapbox(\n",
    "        lon=lines_lon_v + lines_lon_h,\n",
    "        lat=lines_lat_v + lines_lat_h,\n",
    "        mode=\"lines\",\n",
    "        marker={\"color\": \"deeppink\"},\n",
    "    )\n",
    "\n",
    "\n",
    "swisstopo_layer = {\n",
    "    \"below\": \"traces\",\n",
    "    \"sourcetype\": \"raster\",\n",
    "    \"sourceattribution\": '<a href=\"http://osm.org/copyright\">SwissTopo</a>',\n",
    "    \"source\": [\n",
    "        \"https://wmts10.geo.admin.ch/1.0.0/ch.swisstopo.swissimage/default/current/3857/{z}/{x}/{y}.jpeg\"\n",
    "    ],\n",
    "}\n",
    "fig = go.Figure(data=[center_marker, get_rectangle(points)])\n",
    "\n",
    "fig.add_trace(get_gridlines(lats, lons))\n",
    "fig.update_layout(\n",
    "    margin=dict(l=0, r=0, t=0, b=0),\n",
    "    width=600,\n",
    "    height=600,\n",
    "    mapbox={\n",
    "        \"style\": \"white-bg\",\n",
    "        \"zoom\": 9.5,\n",
    "        \"center\": {\n",
    "            \"lat\": 47.53660,\n",
    "            \"lon\": 7.61344,\n",
    "        },\n",
    "        \"layers\": [\n",
    "            swisstopo_layer,\n",
    "        ],\n",
    "    },\n",
    "    showlegend=False,\n",
    ")\n"
   ]
  },
  {
   "cell_type": "code",
   "execution_count": 18,
   "metadata": {},
   "outputs": [],
   "source": [
    "\n",
    "def plot_cluster_counts(lats, lons, cpc):\n",
    "    ct = []\n",
    "    x = []\n",
    "    y = []\n",
    "    for i in range(1, len(lats)):\n",
    "        for j in range(1, len(lons)):\n",
    "            ct.append(cpc[i][j])\n",
    "            x.append(lons[j - 1] + (lons[j] - lons[j - 1]) / 2)\n",
    "            y.append(lats[i - 1] + (lats[i] - lats[i - 1]) / 2)\n",
    "\n",
    "    return go.Figure(\n",
    "        go.Scatter(\n",
    "            x=x,\n",
    "            y=y,\n",
    "            #marker_color=ct,\n",
    "            marker_color=\"teal\",\n",
    "            text=ct,\n",
    "            marker_size=[max(s / (max(ct) / 50), 2) for s in ct],\n",
    "            mode=\"markers\",\n",
    "        )\n",
    "    ).update_layout(\n",
    "        height=600, width=600, margin=dict(l=0, t=0, b=0, r=0), template=\"plotly_white\"\n",
    "    )\n",
    "\n",
    "def get_cpc(lats,lons):\n",
    "    cpc = [[0 for i in range(len(lons))] for i in range(len(lats))]\n",
    "    def get_counts(i, j):\n",
    "        nr = get_number_of_occurencies(\n",
    "            BASE_TAXON_ID,\n",
    "            decimal_latitude=(lats[i - 1], lats[i]),\n",
    "            decimal_longitude=(lons[j - 1], lons[j]),\n",
    "            date_range=DATE_RANGE,\n",
    "        )\n",
    "        return i, j, nr\n",
    "\n",
    "    with tqdm(total=(len(lats)-1)*(len(lons)-1)) as pbar:\n",
    "        with ThreadPoolExecutor(max_workers=None) as ex:\n",
    "\n",
    "            futures = []\n",
    "            for i in range(1, len(lats)):\n",
    "                for j in range(1, len(lons)):\n",
    "                    futures.append(\n",
    "                        ex.submit(\n",
    "                            get_counts, i, j\n",
    "                        )\n",
    "                    )\n",
    "            for future in as_completed(futures):\n",
    "                i, j, ct = future.result()\n",
    "                cpc[i][j] = ct\n",
    "                if ct >= HARD_POINT_LIMIT:\n",
    "                    print(\"Too many Points!\")\n",
    "                pbar.update(1)\n",
    "\n",
    "    if np.max(cpc) >= HARD_POINT_LIMIT:\n",
    "        print(\"TOO MANY POINTS IN CELL!\")\n",
    "    print(\"Total observations\",np.sum(cpc))\n",
    "    return cpc\n",
    "\n",
    "def get_unique_species_keys(lats,lons,cpc):\n",
    "    usk = []\n",
    "    for i in range(1, len(lats)):\n",
    "        print(i,\":\",lats[i-1], \" - \", lats[i])\n",
    "        with tqdm(total=len(cpc[i])) as pbar:\n",
    "            with ThreadPoolExecutor(max_workers=None) as ex:\n",
    "\n",
    "                futures = []\n",
    "                for j in range(1, len(lons)):\n",
    "                    if cpc[i][j] > 0:\n",
    "                        futures.append(\n",
    "                            ex.submit(\n",
    "                                get_species_keys_from_occurences,\n",
    "                                BASE_TAXON_ID,\n",
    "                                decimal_latitude=(lats[i - 1], lats[i]),\n",
    "                                decimal_longitude=(lons[j - 1], lons[j]),\n",
    "                                date_range=DATE_RANGE,\n",
    "                                unique=True,\n",
    "                            )\n",
    "                        )\n",
    "                for future in as_completed(futures):\n",
    "                    usk += future.result()\n",
    "                    usk = list(set(usk))\n",
    "                    pbar.update(1)\n",
    "    return usk\n",
    "\n",
    "def get_species_infos_from_usk(usk):\n",
    "    species_all_infos = []\n",
    "    with tqdm(total=len(usk)) as pbar:\n",
    "        with ThreadPoolExecutor(max_workers=None) as ex:\n",
    "\n",
    "            futures = []\n",
    "            for i in range(len(usk)):\n",
    "                futures.append(\n",
    "                    ex.submit(\n",
    "                        get_species_info,\n",
    "                        usk[i]\n",
    "                    )\n",
    "                )\n",
    "            for future in as_completed(futures):\n",
    "                res = future.result()\n",
    "                if res is not None:\n",
    "                    species_all_infos.append(res)\n",
    "                pbar.update(1)\n",
    "    return species_all_infos"
   ]
  },
  {
   "cell_type": "code",
   "execution_count": 19,
   "metadata": {},
   "outputs": [
    {
     "name": "stderr",
     "output_type": "stream",
     "text": [
      "100%|██████████| 256/256 [00:12<00:00, 20.83it/s]"
     ]
    },
    {
     "name": "stdout",
     "output_type": "stream",
     "text": [
      "Total observations 49323\n",
      "49323 10555\n"
     ]
    },
    {
     "name": "stderr",
     "output_type": "stream",
     "text": [
      "\n"
     ]
    },
    {
     "data": {
      "application/vnd.plotly.v1+json": {
       "config": {
        "plotlyServerURL": "https://plot.ly"
       },
       "data": [
        {
         "marker": {
          "color": "teal",
          "size": [
           2.3969682614874466,
           2,
           2,
           2,
           2,
           2,
           2,
           2,
           2,
           2,
           2,
           2,
           2,
           2,
           2,
           2,
           2,
           2,
           2,
           2,
           2,
           2,
           2,
           2,
           2,
           2,
           2,
           2,
           2,
           2,
           2,
           2,
           2,
           2,
           2,
           2,
           2,
           2,
           2,
           2,
           2,
           2,
           2,
           2,
           2,
           2,
           2,
           2,
           2,
           2,
           2,
           2,
           2,
           2,
           2,
           2,
           2,
           2,
           2,
           2,
           2,
           2,
           2,
           2,
           2,
           2,
           2,
           2,
           2,
           2,
           2,
           2,
           2,
           2,
           2,
           2,
           2,
           2,
           2,
           2,
           2,
           2,
           2,
           2,
           2,
           2,
           2,
           6.00663192799621,
           13.860729512079583,
           2,
           2,
           2,
           2,
           2,
           2,
           2,
           2,
           2,
           2,
           2,
           6.399810516342965,
           2,
           2,
           4.594978683088584,
           2,
           2,
           2,
           2,
           2,
           2,
           2,
           2,
           2,
           2,
           2,
           2,
           2,
           2,
           2,
           14.050213169114164,
           5.613453339649455,
           2,
           2,
           2,
           2,
           2,
           2,
           2,
           2,
           2,
           2,
           2,
           2,
           9.265750828990999,
           2.108005684509711,
           50,
           4.414969208905732,
           2,
           2,
           23.06963524396021,
           2,
           2,
           2,
           2,
           2,
           2,
           2,
           2,
           2,
           7.991473235433444,
           2,
           4.144954997631454,
           3.5907153008053054,
           2,
           2,
           2,
           2,
           2,
           2,
           2,
           2,
           2,
           2,
           2,
           2,
           2,
           3.372809095215538,
           2,
           2,
           2,
           2,
           2,
           2,
           2,
           2,
           2,
           2,
           2,
           2,
           2,
           2,
           16.314542870677403,
           6.5798199905258175,
           2,
           2,
           2,
           2,
           2,
           2,
           2,
           2,
           2,
           2,
           2,
           2,
           2,
           2,
           3.0222643297015632,
           2.8375177640928473,
           2,
           2,
           2,
           2,
           2,
           2,
           2,
           2,
           2,
           2,
           2,
           2,
           2,
           2,
           2,
           2,
           2,
           2,
           2,
           2,
           2,
           2,
           2,
           2,
           2,
           2,
           2,
           2,
           2,
           2,
           2,
           2,
           2,
           2,
           2,
           2,
           2,
           2,
           2,
           2,
           2,
           2,
           2,
           2,
           2,
           2,
           2,
           2,
           2,
           2,
           2,
           2,
           2,
           2,
           2,
           2,
           2
          ]
         },
         "mode": "markers",
         "text": [
          "506",
          "0",
          "0",
          "0",
          "0",
          "1",
          "13",
          "0",
          "1",
          "0",
          "11",
          "0",
          "11",
          "1",
          "0",
          "29",
          "8",
          "0",
          "1",
          "6",
          "28",
          "27",
          "1",
          "0",
          "1",
          "41",
          "0",
          "1",
          "1",
          "1",
          "2",
          "8",
          "0",
          "0",
          "2",
          "0",
          "8",
          "0",
          "2",
          "1",
          "1",
          "3",
          "4",
          "5",
          "1",
          "20",
          "2",
          "1",
          "0",
          "0",
          "0",
          "0",
          "1",
          "75",
          "23",
          "1",
          "1",
          "3",
          "9",
          "80",
          "0",
          "20",
          "17",
          "12",
          "0",
          "2",
          "0",
          "40",
          "36",
          "357",
          "5",
          "413",
          "10",
          "5",
          "86",
          "26",
          "5",
          "13",
          "15",
          "35",
          "53",
          "1",
          "195",
          "118",
          "343",
          "69",
          "98",
          "1268",
          "2926",
          "6",
          "69",
          "42",
          "4",
          "6",
          "54",
          "77",
          "143",
          "37",
          "105",
          "85",
          "1351",
          "366",
          "24",
          "970",
          "97",
          "12",
          "4",
          "4",
          "19",
          "130",
          "10",
          "126",
          "0",
          "105",
          "73",
          "100",
          "0",
          "132",
          "75",
          "2966",
          "1185",
          "68",
          "29",
          "160",
          "14",
          "353",
          "418",
          "84",
          "34",
          "10",
          "0",
          "69",
          "1",
          "1956",
          "445",
          "10555",
          "932",
          "51",
          "55",
          "4870",
          "5",
          "105",
          "16",
          "3",
          "0",
          "0",
          "0",
          "23",
          "17",
          "1687",
          "327",
          "875",
          "758",
          "49",
          "17",
          "0",
          "2",
          "226",
          "86",
          "161",
          "0",
          "0",
          "0",
          "19",
          "24",
          "83",
          "712",
          "251",
          "342",
          "115",
          "113",
          "1",
          "13",
          "0",
          "17",
          "0",
          "0",
          "1",
          "21",
          "35",
          "2",
          "3444",
          "1389",
          "6",
          "112",
          "65",
          "4",
          "1",
          "0",
          "137",
          "0",
          "1",
          "0",
          "0",
          "0",
          "2",
          "18",
          "638",
          "599",
          "19",
          "21",
          "85",
          "2",
          "0",
          "0",
          "30",
          "1",
          "0",
          "0",
          "0",
          "7",
          "88",
          "1",
          "58",
          "81",
          "13",
          "5",
          "0",
          "1",
          "0",
          "0",
          "7",
          "63",
          "1",
          "0",
          "1",
          "0",
          "4",
          "7",
          "0",
          "2",
          "0",
          "7",
          "0",
          "0",
          "1",
          "17",
          "1",
          "1",
          "1",
          "0",
          "0",
          "0",
          "22",
          "126",
          "19",
          "7",
          "3",
          "9",
          "260",
          "112",
          "86",
          "20",
          "19",
          "2",
          "0"
         ],
         "type": "scatter",
         "x": [
          7.364407849026332,
          7.39761213582282,
          7.43081642261931,
          7.464020709415799,
          7.497224996212288,
          7.530429283008777,
          7.5636335698052655,
          7.596837856601756,
          7.630042143398244,
          7.663246430194734,
          7.696450716991222,
          7.729655003787712,
          7.762859290584201,
          7.796063577380689,
          7.829267864177179,
          7.862472150973668,
          7.364407849026332,
          7.39761213582282,
          7.43081642261931,
          7.464020709415799,
          7.497224996212288,
          7.530429283008777,
          7.5636335698052655,
          7.596837856601756,
          7.630042143398244,
          7.663246430194734,
          7.696450716991222,
          7.729655003787712,
          7.762859290584201,
          7.796063577380689,
          7.829267864177179,
          7.862472150973668,
          7.364407849026332,
          7.39761213582282,
          7.43081642261931,
          7.464020709415799,
          7.497224996212288,
          7.530429283008777,
          7.5636335698052655,
          7.596837856601756,
          7.630042143398244,
          7.663246430194734,
          7.696450716991222,
          7.729655003787712,
          7.762859290584201,
          7.796063577380689,
          7.829267864177179,
          7.862472150973668,
          7.364407849026332,
          7.39761213582282,
          7.43081642261931,
          7.464020709415799,
          7.497224996212288,
          7.530429283008777,
          7.5636335698052655,
          7.596837856601756,
          7.630042143398244,
          7.663246430194734,
          7.696450716991222,
          7.729655003787712,
          7.762859290584201,
          7.796063577380689,
          7.829267864177179,
          7.862472150973668,
          7.364407849026332,
          7.39761213582282,
          7.43081642261931,
          7.464020709415799,
          7.497224996212288,
          7.530429283008777,
          7.5636335698052655,
          7.596837856601756,
          7.630042143398244,
          7.663246430194734,
          7.696450716991222,
          7.729655003787712,
          7.762859290584201,
          7.796063577380689,
          7.829267864177179,
          7.862472150973668,
          7.364407849026332,
          7.39761213582282,
          7.43081642261931,
          7.464020709415799,
          7.497224996212288,
          7.530429283008777,
          7.5636335698052655,
          7.596837856601756,
          7.630042143398244,
          7.663246430194734,
          7.696450716991222,
          7.729655003787712,
          7.762859290584201,
          7.796063577380689,
          7.829267864177179,
          7.862472150973668,
          7.364407849026332,
          7.39761213582282,
          7.43081642261931,
          7.464020709415799,
          7.497224996212288,
          7.530429283008777,
          7.5636335698052655,
          7.596837856601756,
          7.630042143398244,
          7.663246430194734,
          7.696450716991222,
          7.729655003787712,
          7.762859290584201,
          7.796063577380689,
          7.829267864177179,
          7.862472150973668,
          7.364407849026332,
          7.39761213582282,
          7.43081642261931,
          7.464020709415799,
          7.497224996212288,
          7.530429283008777,
          7.5636335698052655,
          7.596837856601756,
          7.630042143398244,
          7.663246430194734,
          7.696450716991222,
          7.729655003787712,
          7.762859290584201,
          7.796063577380689,
          7.829267864177179,
          7.862472150973668,
          7.364407849026332,
          7.39761213582282,
          7.43081642261931,
          7.464020709415799,
          7.497224996212288,
          7.530429283008777,
          7.5636335698052655,
          7.596837856601756,
          7.630042143398244,
          7.663246430194734,
          7.696450716991222,
          7.729655003787712,
          7.762859290584201,
          7.796063577380689,
          7.829267864177179,
          7.862472150973668,
          7.364407849026332,
          7.39761213582282,
          7.43081642261931,
          7.464020709415799,
          7.497224996212288,
          7.530429283008777,
          7.5636335698052655,
          7.596837856601756,
          7.630042143398244,
          7.663246430194734,
          7.696450716991222,
          7.729655003787712,
          7.762859290584201,
          7.796063577380689,
          7.829267864177179,
          7.862472150973668,
          7.364407849026332,
          7.39761213582282,
          7.43081642261931,
          7.464020709415799,
          7.497224996212288,
          7.530429283008777,
          7.5636335698052655,
          7.596837856601756,
          7.630042143398244,
          7.663246430194734,
          7.696450716991222,
          7.729655003787712,
          7.762859290584201,
          7.796063577380689,
          7.829267864177179,
          7.862472150973668,
          7.364407849026332,
          7.39761213582282,
          7.43081642261931,
          7.464020709415799,
          7.497224996212288,
          7.530429283008777,
          7.5636335698052655,
          7.596837856601756,
          7.630042143398244,
          7.663246430194734,
          7.696450716991222,
          7.729655003787712,
          7.762859290584201,
          7.796063577380689,
          7.829267864177179,
          7.862472150973668,
          7.364407849026332,
          7.39761213582282,
          7.43081642261931,
          7.464020709415799,
          7.497224996212288,
          7.530429283008777,
          7.5636335698052655,
          7.596837856601756,
          7.630042143398244,
          7.663246430194734,
          7.696450716991222,
          7.729655003787712,
          7.762859290584201,
          7.796063577380689,
          7.829267864177179,
          7.862472150973668,
          7.364407849026332,
          7.39761213582282,
          7.43081642261931,
          7.464020709415799,
          7.497224996212288,
          7.530429283008777,
          7.5636335698052655,
          7.596837856601756,
          7.630042143398244,
          7.663246430194734,
          7.696450716991222,
          7.729655003787712,
          7.762859290584201,
          7.796063577380689,
          7.829267864177179,
          7.862472150973668,
          7.364407849026332,
          7.39761213582282,
          7.43081642261931,
          7.464020709415799,
          7.497224996212288,
          7.530429283008777,
          7.5636335698052655,
          7.596837856601756,
          7.630042143398244,
          7.663246430194734,
          7.696450716991222,
          7.729655003787712,
          7.762859290584201,
          7.796063577380689,
          7.829267864177179,
          7.862472150973668,
          7.364407849026332,
          7.39761213582282,
          7.43081642261931,
          7.464020709415799,
          7.497224996212288,
          7.530429283008777,
          7.5636335698052655,
          7.596837856601756,
          7.630042143398244,
          7.663246430194734,
          7.696450716991222,
          7.729655003787712,
          7.762859290584201,
          7.796063577380689,
          7.829267864177179,
          7.862472150973668
         ],
         "y": [
          47.367953699440136,
          47.367953699440136,
          47.367953699440136,
          47.367953699440136,
          47.367953699440136,
          47.367953699440136,
          47.367953699440136,
          47.367953699440136,
          47.367953699440136,
          47.367953699440136,
          47.367953699440136,
          47.367953699440136,
          47.367953699440136,
          47.367953699440136,
          47.367953699440136,
          47.367953699440136,
          47.39043949487301,
          47.39043949487301,
          47.39043949487301,
          47.39043949487301,
          47.39043949487301,
          47.39043949487301,
          47.39043949487301,
          47.39043949487301,
          47.39043949487301,
          47.39043949487301,
          47.39043949487301,
          47.39043949487301,
          47.39043949487301,
          47.39043949487301,
          47.39043949487301,
          47.39043949487301,
          47.412925290305864,
          47.412925290305864,
          47.412925290305864,
          47.412925290305864,
          47.412925290305864,
          47.412925290305864,
          47.412925290305864,
          47.412925290305864,
          47.412925290305864,
          47.412925290305864,
          47.412925290305864,
          47.412925290305864,
          47.412925290305864,
          47.412925290305864,
          47.412925290305864,
          47.412925290305864,
          47.43541108573872,
          47.43541108573872,
          47.43541108573872,
          47.43541108573872,
          47.43541108573872,
          47.43541108573872,
          47.43541108573872,
          47.43541108573872,
          47.43541108573872,
          47.43541108573872,
          47.43541108573872,
          47.43541108573872,
          47.43541108573872,
          47.43541108573872,
          47.43541108573872,
          47.43541108573872,
          47.45789688117159,
          47.45789688117159,
          47.45789688117159,
          47.45789688117159,
          47.45789688117159,
          47.45789688117159,
          47.45789688117159,
          47.45789688117159,
          47.45789688117159,
          47.45789688117159,
          47.45789688117159,
          47.45789688117159,
          47.45789688117159,
          47.45789688117159,
          47.45789688117159,
          47.45789688117159,
          47.48038267660445,
          47.48038267660445,
          47.48038267660445,
          47.48038267660445,
          47.48038267660445,
          47.48038267660445,
          47.48038267660445,
          47.48038267660445,
          47.48038267660445,
          47.48038267660445,
          47.48038267660445,
          47.48038267660445,
          47.48038267660445,
          47.48038267660445,
          47.48038267660445,
          47.48038267660445,
          47.502868472037306,
          47.502868472037306,
          47.502868472037306,
          47.502868472037306,
          47.502868472037306,
          47.502868472037306,
          47.502868472037306,
          47.502868472037306,
          47.502868472037306,
          47.502868472037306,
          47.502868472037306,
          47.502868472037306,
          47.502868472037306,
          47.502868472037306,
          47.502868472037306,
          47.502868472037306,
          47.52535426747018,
          47.52535426747018,
          47.52535426747018,
          47.52535426747018,
          47.52535426747018,
          47.52535426747018,
          47.52535426747018,
          47.52535426747018,
          47.52535426747018,
          47.52535426747018,
          47.52535426747018,
          47.52535426747018,
          47.52535426747018,
          47.52535426747018,
          47.52535426747018,
          47.52535426747018,
          47.547840062903035,
          47.547840062903035,
          47.547840062903035,
          47.547840062903035,
          47.547840062903035,
          47.547840062903035,
          47.547840062903035,
          47.547840062903035,
          47.547840062903035,
          47.547840062903035,
          47.547840062903035,
          47.547840062903035,
          47.547840062903035,
          47.547840062903035,
          47.547840062903035,
          47.547840062903035,
          47.570325858335906,
          47.570325858335906,
          47.570325858335906,
          47.570325858335906,
          47.570325858335906,
          47.570325858335906,
          47.570325858335906,
          47.570325858335906,
          47.570325858335906,
          47.570325858335906,
          47.570325858335906,
          47.570325858335906,
          47.570325858335906,
          47.570325858335906,
          47.570325858335906,
          47.570325858335906,
          47.59281165376876,
          47.59281165376876,
          47.59281165376876,
          47.59281165376876,
          47.59281165376876,
          47.59281165376876,
          47.59281165376876,
          47.59281165376876,
          47.59281165376876,
          47.59281165376876,
          47.59281165376876,
          47.59281165376876,
          47.59281165376876,
          47.59281165376876,
          47.59281165376876,
          47.59281165376876,
          47.61529744920162,
          47.61529744920162,
          47.61529744920162,
          47.61529744920162,
          47.61529744920162,
          47.61529744920162,
          47.61529744920162,
          47.61529744920162,
          47.61529744920162,
          47.61529744920162,
          47.61529744920162,
          47.61529744920162,
          47.61529744920162,
          47.61529744920162,
          47.61529744920162,
          47.61529744920162,
          47.63778324463449,
          47.63778324463449,
          47.63778324463449,
          47.63778324463449,
          47.63778324463449,
          47.63778324463449,
          47.63778324463449,
          47.63778324463449,
          47.63778324463449,
          47.63778324463449,
          47.63778324463449,
          47.63778324463449,
          47.63778324463449,
          47.63778324463449,
          47.63778324463449,
          47.63778324463449,
          47.66026904006735,
          47.66026904006735,
          47.66026904006735,
          47.66026904006735,
          47.66026904006735,
          47.66026904006735,
          47.66026904006735,
          47.66026904006735,
          47.66026904006735,
          47.66026904006735,
          47.66026904006735,
          47.66026904006735,
          47.66026904006735,
          47.66026904006735,
          47.66026904006735,
          47.66026904006735,
          47.682754835500205,
          47.682754835500205,
          47.682754835500205,
          47.682754835500205,
          47.682754835500205,
          47.682754835500205,
          47.682754835500205,
          47.682754835500205,
          47.682754835500205,
          47.682754835500205,
          47.682754835500205,
          47.682754835500205,
          47.682754835500205,
          47.682754835500205,
          47.682754835500205,
          47.682754835500205,
          47.705240630933076,
          47.705240630933076,
          47.705240630933076,
          47.705240630933076,
          47.705240630933076,
          47.705240630933076,
          47.705240630933076,
          47.705240630933076,
          47.705240630933076,
          47.705240630933076,
          47.705240630933076,
          47.705240630933076,
          47.705240630933076,
          47.705240630933076,
          47.705240630933076,
          47.705240630933076
         ]
        }
       ],
       "layout": {
        "height": 600,
        "margin": {
         "b": 0,
         "l": 0,
         "r": 0,
         "t": 0
        },
        "template": {
         "data": {
          "bar": [
           {
            "error_x": {
             "color": "#2a3f5f"
            },
            "error_y": {
             "color": "#2a3f5f"
            },
            "marker": {
             "line": {
              "color": "white",
              "width": 0.5
             },
             "pattern": {
              "fillmode": "overlay",
              "size": 10,
              "solidity": 0.2
             }
            },
            "type": "bar"
           }
          ],
          "barpolar": [
           {
            "marker": {
             "line": {
              "color": "white",
              "width": 0.5
             },
             "pattern": {
              "fillmode": "overlay",
              "size": 10,
              "solidity": 0.2
             }
            },
            "type": "barpolar"
           }
          ],
          "carpet": [
           {
            "aaxis": {
             "endlinecolor": "#2a3f5f",
             "gridcolor": "#C8D4E3",
             "linecolor": "#C8D4E3",
             "minorgridcolor": "#C8D4E3",
             "startlinecolor": "#2a3f5f"
            },
            "baxis": {
             "endlinecolor": "#2a3f5f",
             "gridcolor": "#C8D4E3",
             "linecolor": "#C8D4E3",
             "minorgridcolor": "#C8D4E3",
             "startlinecolor": "#2a3f5f"
            },
            "type": "carpet"
           }
          ],
          "choropleth": [
           {
            "colorbar": {
             "outlinewidth": 0,
             "ticks": ""
            },
            "type": "choropleth"
           }
          ],
          "contour": [
           {
            "colorbar": {
             "outlinewidth": 0,
             "ticks": ""
            },
            "colorscale": [
             [
              0,
              "#0d0887"
             ],
             [
              0.1111111111111111,
              "#46039f"
             ],
             [
              0.2222222222222222,
              "#7201a8"
             ],
             [
              0.3333333333333333,
              "#9c179e"
             ],
             [
              0.4444444444444444,
              "#bd3786"
             ],
             [
              0.5555555555555556,
              "#d8576b"
             ],
             [
              0.6666666666666666,
              "#ed7953"
             ],
             [
              0.7777777777777778,
              "#fb9f3a"
             ],
             [
              0.8888888888888888,
              "#fdca26"
             ],
             [
              1,
              "#f0f921"
             ]
            ],
            "type": "contour"
           }
          ],
          "contourcarpet": [
           {
            "colorbar": {
             "outlinewidth": 0,
             "ticks": ""
            },
            "type": "contourcarpet"
           }
          ],
          "heatmap": [
           {
            "colorbar": {
             "outlinewidth": 0,
             "ticks": ""
            },
            "colorscale": [
             [
              0,
              "#0d0887"
             ],
             [
              0.1111111111111111,
              "#46039f"
             ],
             [
              0.2222222222222222,
              "#7201a8"
             ],
             [
              0.3333333333333333,
              "#9c179e"
             ],
             [
              0.4444444444444444,
              "#bd3786"
             ],
             [
              0.5555555555555556,
              "#d8576b"
             ],
             [
              0.6666666666666666,
              "#ed7953"
             ],
             [
              0.7777777777777778,
              "#fb9f3a"
             ],
             [
              0.8888888888888888,
              "#fdca26"
             ],
             [
              1,
              "#f0f921"
             ]
            ],
            "type": "heatmap"
           }
          ],
          "heatmapgl": [
           {
            "colorbar": {
             "outlinewidth": 0,
             "ticks": ""
            },
            "colorscale": [
             [
              0,
              "#0d0887"
             ],
             [
              0.1111111111111111,
              "#46039f"
             ],
             [
              0.2222222222222222,
              "#7201a8"
             ],
             [
              0.3333333333333333,
              "#9c179e"
             ],
             [
              0.4444444444444444,
              "#bd3786"
             ],
             [
              0.5555555555555556,
              "#d8576b"
             ],
             [
              0.6666666666666666,
              "#ed7953"
             ],
             [
              0.7777777777777778,
              "#fb9f3a"
             ],
             [
              0.8888888888888888,
              "#fdca26"
             ],
             [
              1,
              "#f0f921"
             ]
            ],
            "type": "heatmapgl"
           }
          ],
          "histogram": [
           {
            "marker": {
             "pattern": {
              "fillmode": "overlay",
              "size": 10,
              "solidity": 0.2
             }
            },
            "type": "histogram"
           }
          ],
          "histogram2d": [
           {
            "colorbar": {
             "outlinewidth": 0,
             "ticks": ""
            },
            "colorscale": [
             [
              0,
              "#0d0887"
             ],
             [
              0.1111111111111111,
              "#46039f"
             ],
             [
              0.2222222222222222,
              "#7201a8"
             ],
             [
              0.3333333333333333,
              "#9c179e"
             ],
             [
              0.4444444444444444,
              "#bd3786"
             ],
             [
              0.5555555555555556,
              "#d8576b"
             ],
             [
              0.6666666666666666,
              "#ed7953"
             ],
             [
              0.7777777777777778,
              "#fb9f3a"
             ],
             [
              0.8888888888888888,
              "#fdca26"
             ],
             [
              1,
              "#f0f921"
             ]
            ],
            "type": "histogram2d"
           }
          ],
          "histogram2dcontour": [
           {
            "colorbar": {
             "outlinewidth": 0,
             "ticks": ""
            },
            "colorscale": [
             [
              0,
              "#0d0887"
             ],
             [
              0.1111111111111111,
              "#46039f"
             ],
             [
              0.2222222222222222,
              "#7201a8"
             ],
             [
              0.3333333333333333,
              "#9c179e"
             ],
             [
              0.4444444444444444,
              "#bd3786"
             ],
             [
              0.5555555555555556,
              "#d8576b"
             ],
             [
              0.6666666666666666,
              "#ed7953"
             ],
             [
              0.7777777777777778,
              "#fb9f3a"
             ],
             [
              0.8888888888888888,
              "#fdca26"
             ],
             [
              1,
              "#f0f921"
             ]
            ],
            "type": "histogram2dcontour"
           }
          ],
          "mesh3d": [
           {
            "colorbar": {
             "outlinewidth": 0,
             "ticks": ""
            },
            "type": "mesh3d"
           }
          ],
          "parcoords": [
           {
            "line": {
             "colorbar": {
              "outlinewidth": 0,
              "ticks": ""
             }
            },
            "type": "parcoords"
           }
          ],
          "pie": [
           {
            "automargin": true,
            "type": "pie"
           }
          ],
          "scatter": [
           {
            "fillpattern": {
             "fillmode": "overlay",
             "size": 10,
             "solidity": 0.2
            },
            "type": "scatter"
           }
          ],
          "scatter3d": [
           {
            "line": {
             "colorbar": {
              "outlinewidth": 0,
              "ticks": ""
             }
            },
            "marker": {
             "colorbar": {
              "outlinewidth": 0,
              "ticks": ""
             }
            },
            "type": "scatter3d"
           }
          ],
          "scattercarpet": [
           {
            "marker": {
             "colorbar": {
              "outlinewidth": 0,
              "ticks": ""
             }
            },
            "type": "scattercarpet"
           }
          ],
          "scattergeo": [
           {
            "marker": {
             "colorbar": {
              "outlinewidth": 0,
              "ticks": ""
             }
            },
            "type": "scattergeo"
           }
          ],
          "scattergl": [
           {
            "marker": {
             "colorbar": {
              "outlinewidth": 0,
              "ticks": ""
             }
            },
            "type": "scattergl"
           }
          ],
          "scattermapbox": [
           {
            "marker": {
             "colorbar": {
              "outlinewidth": 0,
              "ticks": ""
             }
            },
            "type": "scattermapbox"
           }
          ],
          "scatterpolar": [
           {
            "marker": {
             "colorbar": {
              "outlinewidth": 0,
              "ticks": ""
             }
            },
            "type": "scatterpolar"
           }
          ],
          "scatterpolargl": [
           {
            "marker": {
             "colorbar": {
              "outlinewidth": 0,
              "ticks": ""
             }
            },
            "type": "scatterpolargl"
           }
          ],
          "scatterternary": [
           {
            "marker": {
             "colorbar": {
              "outlinewidth": 0,
              "ticks": ""
             }
            },
            "type": "scatterternary"
           }
          ],
          "surface": [
           {
            "colorbar": {
             "outlinewidth": 0,
             "ticks": ""
            },
            "colorscale": [
             [
              0,
              "#0d0887"
             ],
             [
              0.1111111111111111,
              "#46039f"
             ],
             [
              0.2222222222222222,
              "#7201a8"
             ],
             [
              0.3333333333333333,
              "#9c179e"
             ],
             [
              0.4444444444444444,
              "#bd3786"
             ],
             [
              0.5555555555555556,
              "#d8576b"
             ],
             [
              0.6666666666666666,
              "#ed7953"
             ],
             [
              0.7777777777777778,
              "#fb9f3a"
             ],
             [
              0.8888888888888888,
              "#fdca26"
             ],
             [
              1,
              "#f0f921"
             ]
            ],
            "type": "surface"
           }
          ],
          "table": [
           {
            "cells": {
             "fill": {
              "color": "#EBF0F8"
             },
             "line": {
              "color": "white"
             }
            },
            "header": {
             "fill": {
              "color": "#C8D4E3"
             },
             "line": {
              "color": "white"
             }
            },
            "type": "table"
           }
          ]
         },
         "layout": {
          "annotationdefaults": {
           "arrowcolor": "#2a3f5f",
           "arrowhead": 0,
           "arrowwidth": 1
          },
          "autotypenumbers": "strict",
          "coloraxis": {
           "colorbar": {
            "outlinewidth": 0,
            "ticks": ""
           }
          },
          "colorscale": {
           "diverging": [
            [
             0,
             "#8e0152"
            ],
            [
             0.1,
             "#c51b7d"
            ],
            [
             0.2,
             "#de77ae"
            ],
            [
             0.3,
             "#f1b6da"
            ],
            [
             0.4,
             "#fde0ef"
            ],
            [
             0.5,
             "#f7f7f7"
            ],
            [
             0.6,
             "#e6f5d0"
            ],
            [
             0.7,
             "#b8e186"
            ],
            [
             0.8,
             "#7fbc41"
            ],
            [
             0.9,
             "#4d9221"
            ],
            [
             1,
             "#276419"
            ]
           ],
           "sequential": [
            [
             0,
             "#0d0887"
            ],
            [
             0.1111111111111111,
             "#46039f"
            ],
            [
             0.2222222222222222,
             "#7201a8"
            ],
            [
             0.3333333333333333,
             "#9c179e"
            ],
            [
             0.4444444444444444,
             "#bd3786"
            ],
            [
             0.5555555555555556,
             "#d8576b"
            ],
            [
             0.6666666666666666,
             "#ed7953"
            ],
            [
             0.7777777777777778,
             "#fb9f3a"
            ],
            [
             0.8888888888888888,
             "#fdca26"
            ],
            [
             1,
             "#f0f921"
            ]
           ],
           "sequentialminus": [
            [
             0,
             "#0d0887"
            ],
            [
             0.1111111111111111,
             "#46039f"
            ],
            [
             0.2222222222222222,
             "#7201a8"
            ],
            [
             0.3333333333333333,
             "#9c179e"
            ],
            [
             0.4444444444444444,
             "#bd3786"
            ],
            [
             0.5555555555555556,
             "#d8576b"
            ],
            [
             0.6666666666666666,
             "#ed7953"
            ],
            [
             0.7777777777777778,
             "#fb9f3a"
            ],
            [
             0.8888888888888888,
             "#fdca26"
            ],
            [
             1,
             "#f0f921"
            ]
           ]
          },
          "colorway": [
           "#636efa",
           "#EF553B",
           "#00cc96",
           "#ab63fa",
           "#FFA15A",
           "#19d3f3",
           "#FF6692",
           "#B6E880",
           "#FF97FF",
           "#FECB52"
          ],
          "font": {
           "color": "#2a3f5f"
          },
          "geo": {
           "bgcolor": "white",
           "lakecolor": "white",
           "landcolor": "white",
           "showlakes": true,
           "showland": true,
           "subunitcolor": "#C8D4E3"
          },
          "hoverlabel": {
           "align": "left"
          },
          "hovermode": "closest",
          "mapbox": {
           "style": "light"
          },
          "paper_bgcolor": "white",
          "plot_bgcolor": "white",
          "polar": {
           "angularaxis": {
            "gridcolor": "#EBF0F8",
            "linecolor": "#EBF0F8",
            "ticks": ""
           },
           "bgcolor": "white",
           "radialaxis": {
            "gridcolor": "#EBF0F8",
            "linecolor": "#EBF0F8",
            "ticks": ""
           }
          },
          "scene": {
           "xaxis": {
            "backgroundcolor": "white",
            "gridcolor": "#DFE8F3",
            "gridwidth": 2,
            "linecolor": "#EBF0F8",
            "showbackground": true,
            "ticks": "",
            "zerolinecolor": "#EBF0F8"
           },
           "yaxis": {
            "backgroundcolor": "white",
            "gridcolor": "#DFE8F3",
            "gridwidth": 2,
            "linecolor": "#EBF0F8",
            "showbackground": true,
            "ticks": "",
            "zerolinecolor": "#EBF0F8"
           },
           "zaxis": {
            "backgroundcolor": "white",
            "gridcolor": "#DFE8F3",
            "gridwidth": 2,
            "linecolor": "#EBF0F8",
            "showbackground": true,
            "ticks": "",
            "zerolinecolor": "#EBF0F8"
           }
          },
          "shapedefaults": {
           "line": {
            "color": "#2a3f5f"
           }
          },
          "ternary": {
           "aaxis": {
            "gridcolor": "#DFE8F3",
            "linecolor": "#A2B1C6",
            "ticks": ""
           },
           "baxis": {
            "gridcolor": "#DFE8F3",
            "linecolor": "#A2B1C6",
            "ticks": ""
           },
           "bgcolor": "white",
           "caxis": {
            "gridcolor": "#DFE8F3",
            "linecolor": "#A2B1C6",
            "ticks": ""
           }
          },
          "title": {
           "x": 0.05
          },
          "xaxis": {
           "automargin": true,
           "gridcolor": "#EBF0F8",
           "linecolor": "#EBF0F8",
           "ticks": "",
           "title": {
            "standoff": 15
           },
           "zerolinecolor": "#EBF0F8",
           "zerolinewidth": 2
          },
          "yaxis": {
           "automargin": true,
           "gridcolor": "#EBF0F8",
           "linecolor": "#EBF0F8",
           "ticks": "",
           "title": {
            "standoff": 15
           },
           "zerolinecolor": "#EBF0F8",
           "zerolinewidth": 2
          }
         }
        },
        "width": 600
       }
      }
     },
     "metadata": {},
     "output_type": "display_data"
    }
   ],
   "source": [
    "cpc = get_cpc(lats,lons)\n",
    "print(np.sum(cpc), np.max(cpc))\n",
    "plot_cluster_counts(lats,lons,cpc)"
   ]
  },
  {
   "cell_type": "code",
   "execution_count": 20,
   "metadata": {},
   "outputs": [
    {
     "name": "stderr",
     "output_type": "stream",
     "text": [
      " 67%|██████▋   | 33004/49323 [00:18<00:11, 1446.14it/s]"
     ]
    },
    {
     "name": "stdout",
     "output_type": "stream",
     "text": [
      "invalid date 2022-04-31T00:00:00\n"
     ]
    },
    {
     "name": "stderr",
     "output_type": "stream",
     "text": [
      "100%|█████████▉| 49322/49323 [00:24<00:00, 2035.51it/s]\n"
     ]
    },
    {
     "data": {
      "text/plain": [
       "49322"
      ]
     },
     "execution_count": 20,
     "metadata": {},
     "output_type": "execute_result"
    }
   ],
   "source": [
    "grid_coordinates = get_grid_coordinates(lats, lons)\n",
    "occ = []\n",
    "with tqdm(total=np.sum(cpc)) as pbar:\n",
    "    with ThreadPoolExecutor(max_workers=None) as executor:\n",
    "        thread_results = [\n",
    "            executor.submit(\n",
    "                get_occurences,\n",
    "                BASE_TAXON_ID,\n",
    "                date_range=DATE_RANGE,\n",
    "                decimal_latitude=gc.get(\"lat\"),\n",
    "                decimal_longitude=gc.get(\"lon\"),\n",
    "            )\n",
    "            for gc in grid_coordinates\n",
    "        ]\n",
    "        for future in as_completed(thread_results):\n",
    "            try:\n",
    "                res = future.result()\n",
    "                if isinstance(res, list):\n",
    "\n",
    "                    pbar.update(len(res))\n",
    "                    occ += res\n",
    "            except:\n",
    "                print(\"exc.\")\n",
    "occ = update_dataset_names(occ)\n",
    "occ = [trim_strings(o) for o in occ]\n",
    "len(occ)"
   ]
  },
  {
   "cell_type": "markdown",
   "metadata": {},
   "source": [
    "1. Create a copy of `credentials_example.py` :\n",
    "    ```sh\n",
    "    cp credentials_example.py credentials.py\n",
    "    ```\n",
    "2. Edit the file and insert the credentials\n"
   ]
  },
  {
   "cell_type": "code",
   "execution_count": 21,
   "metadata": {},
   "outputs": [],
   "source": [
    "from credentials import host, port, user, password, database\n",
    "import psycopg2\n",
    "from psycopg2.extras import execute_values, execute_batch"
   ]
  },
  {
   "cell_type": "code",
   "execution_count": 22,
   "metadata": {},
   "outputs": [
    {
     "data": {
      "text/plain": [
       "'PostgreSQL 14.7 (Debian 14.7-1.pgdg110+1) on x86_64-pc-linux-gnu, compiled by gcc (Debian 10.2.1-6) 10.2.1 20210110, 64-bit'"
      ]
     },
     "execution_count": 22,
     "metadata": {},
     "output_type": "execute_result"
    }
   ],
   "source": [
    "def postgresql_connect():\n",
    "    try:\n",
    "        conn = psycopg2.connect(\n",
    "            host=host,\n",
    "            port=port,\n",
    "            user=user,\n",
    "            password=password,\n",
    "            database=database,\n",
    "        )\n",
    "        return conn\n",
    "    except Exception as e:\n",
    "        print(e)\n",
    "\n",
    "conn = postgresql_connect()\n",
    "\n",
    "def get_postgres_version():\n",
    "    cursor = conn.cursor()\n",
    "    cursor.execute(\"SELECT version()\")\n",
    "    version = cursor.fetchone()\n",
    "    cursor.close()\n",
    "    return version[0]\n",
    "\n",
    "def execute_query(query, args=None, conn=conn, df=True):\n",
    "    try:\n",
    "        cur = conn.cursor()\n",
    "        if args:\n",
    "            cur.execute(query, args)\n",
    "        else:\n",
    "            cur.execute(query)\n",
    "\n",
    "        res = cur.fetchall()\n",
    "        if df:\n",
    "            cols = []\n",
    "            for elt in cur.description:\n",
    "                cols.append(elt[0])\n",
    "            df = pd.DataFrame(data=res, columns=cols)\n",
    "            return df\n",
    "        else:\n",
    "            return res\n",
    "    except Exception as e:\n",
    "        return e\n",
    "\n",
    "def execute_query_commit(query, args, conn=conn):\n",
    "    cur = conn.cursor()\n",
    "    if args:\n",
    "        cur.execute(query, args)\n",
    "    conn.commit()\n",
    "    conn.reset()\n",
    "\n",
    "get_postgres_version()"
   ]
  },
  {
   "cell_type": "code",
   "execution_count": 23,
   "metadata": {},
   "outputs": [
    {
     "name": "stdout",
     "output_type": "stream",
     "text": [
      "418061 values in db\n"
     ]
    }
   ],
   "source": [
    "count_before = execute_query(\"select count(*) from gbif\").values[0][0]\n",
    "print(count_before, \"values in db\")\n",
    "conn.reset()"
   ]
  },
  {
   "cell_type": "code",
   "execution_count": 24,
   "metadata": {},
   "outputs": [],
   "source": [
    "query = \"\"\"\n",
    "    INSERT INTO public.gbif (\n",
    "        \"key\", eventDate, decimalLongitude, decimalLatitude,\n",
    "        taxonKey, kingdomKey, phylumKey, classKey, orderKey, familyKey, genusKey, speciesKey,\n",
    "        \"references\", gbifReference,\n",
    "        datasetKey, datasetName, datasetReference, license,\n",
    "        basisOfRecord,\n",
    "        mediaType, media\n",
    "    ) VALUES (\n",
    "        %(key)s, %(eventDate)s, %(decimalLongitude)s, %(decimalLatitude)s,\n",
    "        %(taxonKey)s, %(kingdomKey)s, %(phylumKey)s, %(classKey)s, %(orderKey)s,\n",
    "        %(familyKey)s, %(genusKey)s, %(speciesKey)s, %(references)s, %(gbifReference)s,\n",
    "        %(datasetKey)s, %(datasetName)s, %(datasetReference)s, %(license)s,\n",
    "        %(basisOfRecord)s, %(mediaType)s, %(media)s\n",
    "    ) ON CONFLICT DO NOTHING\n",
    "    \"\"\"\n",
    "cur = conn.cursor()\n",
    "\n",
    "execute_batch(cur, query, occ, page_size=1000\n",
    "              )\n",
    "conn.commit()"
   ]
  },
  {
   "cell_type": "code",
   "execution_count": 25,
   "metadata": {},
   "outputs": [
    {
     "name": "stdout",
     "output_type": "stream",
     "text": [
      "463844 values in db\n",
      "45783 new datapoints\n"
     ]
    }
   ],
   "source": [
    "count_after = execute_query(\"select count(*) from gbif\").values[0][0]\n",
    "print(count_after, \"values in db\")\n",
    "print(count_after-count_before, \"new datapoints\")"
   ]
  }
 ],
 "metadata": {
  "kernelspec": {
   "display_name": "Python 3",
   "language": "python",
   "name": "python3"
  },
  "language_info": {
   "codemirror_mode": {
    "name": "ipython",
    "version": 3
   },
   "file_extension": ".py",
   "mimetype": "text/x-python",
   "name": "python",
   "nbconvert_exporter": "python",
   "pygments_lexer": "ipython3",
   "version": "3.8.5"
  },
  "orig_nbformat": 4
 },
 "nbformat": 4,
 "nbformat_minor": 2
}
